# Import necessary libraries
import pandas as pd

# Assuming your CSV file is named 'your_data.csv'
# Adjust the file name accordingly
file_path = 'Sizing Spreadsheet - Women_ Height-Weight.csv'

# Read the CSV file into a DataFrame
df = pd.read_csv(file_path)

# Display the first few rows of the DataFrame to verify the import
df.head()

from sklearn.model_selection import train_test_split
from sklearn.linear_model import LinearRegression

# Load dataset
file_path = "Sizing Spreadsheet - Women_ Height-Weight.csv"
df = pd.read_csv(file_path)

# Remove unwanted columns
df = df.dropna(axis=1, how="all")

# Define Features and Target Variables
X = df[['Weight', 'Height', 'Bust', 'Stomach', 'Hips']]
y = df[['Neck', 'Sleeve Length (F/S)', 'Shoulder Width', 'Torso Length', 'Bicep', 'Wrist',
        'Rise', 'Length (Leg)', 'Waist (Pants)', 'THigh']]

# Split the data
X_train, X_test, y_train, y_test = train_test_split(X, y, test_size=0.2, random_state=42)

# Train model
model = LinearRegression()
model.fit(X_train, y_train)

# Collect user input
weight = float(input("Enter Weight (kg): "))
height = float(input("Enter Height (cm): "))
bust = float(input("Enter Bust (inches): ")) * 2.54  # Convert inches to cm
stomach = float(input("Enter Stomach (inches): ")) * 2.54
hips = float(input("Enter Hips (inches): ")) * 2.54

# Create DataFrame with user input
new_data = pd.DataFrame({'Weight': [weight], 'Height': [height], 'Bust': [bust], 
                         'Stomach': [stomach], 'Hips': [hips]})

# Predict values
predicted_values = model.predict(new_data)

# Extract predicted measurements
predicted_neck_measure = predicted_values[:, 0]
predicted_sleeve_measure = predicted_values[:, 1]
predicted_shoulder_measure = predicted_values[:, 2]
predicted_torso_length_measure = predicted_values[:, 3]
predicted_bicep_measure = predicted_values[:, 4]
predicted_wrist_measure = predicted_values[:, 5]

predicted_rise_measure = predicted_values[:, 6]
predicted_leg_length_measure = predicted_values[:, 7]
predicted_waist_measure = predicted_values[:, 8]
predicted_thighs_measure = predicted_values[:, 9]

# Print the results
print("\nMEASUREMENT FOR FULLSLEEVE SHIRTS")
print(f'Predicted Neck Measure: IN: {round(predicted_neck_measure[0] / 2.54 - (predicted_neck_measure[0] / 2.54 * 0.05), 1)} | CM: {round(predicted_neck_measure[0], 1)}')
print(f'Predicted Sleeve Measure: IN: {round(predicted_sleeve_measure[0] / 2.54 - (predicted_sleeve_measure[0] / 2.54 * 0.05), 1)} | CM: {round(predicted_sleeve_measure[0], 1)}')
print(f'Predicted Shoulder Measure: IN: {round(predicted_shoulder_measure[0] / 2.54, 1)} | CM: {round(predicted_shoulder_measure[0], 1)}')
print(f'Predicted Torso Length Measure: IN: {round(predicted_torso_length_measure[0] / 2.54 - (predicted_torso_length_measure[0] / 2.54 * 0.1), 1)} | CM: {round(predicted_torso_length_measure[0] - 2.54, 1)}')
print(f'Predicted Bicep Measure: IN: {round(predicted_bicep_measure[0] / 2.54, 1)} | CM: {round(predicted_bicep_measure[0], 1)}')
print(f'Predicted Wrist Measure: IN: {round(predicted_wrist_measure[0] / 2.54, 1)} | CM: {round(predicted_wrist_measure[0], 1)}')

print("\nMEASUREMENT FOR PANTS")
print(f'Predicted Rise Measure: IN: {round(predicted_rise_measure[0] / 2.54, 1)} | CM: {round(predicted_rise_measure[0], 1)}')
print(f'Predicted Leg Length Measure: IN: {round(predicted_leg_length_measure[0] / 2.54 - 1.5, 1)} | CM: {round(predicted_leg_length_measure[0] - 3.8, 1)}')
print(f'Predicted Waist Measure: IN: {round(predicted_waist_measure[0] / 2.54, 1)} | CM: {round(predicted_waist_measure[0], 1)}')
print(f'Predicted Thighs Measure: IN: {round(predicted_thighs_measure[0] / 2.54, 1)} | CM: {round(predicted_thighs_measure[0], 1)}')

print("\nLENGTH MEASUREMENT OF SHORTS")
print(f'Predicted Shorts Leg Length Measure: IN: {round(predicted_leg_length_measure[0] / 2.54 - 22, 1)} | CM: {round(predicted_leg_length_measure[0] - 58, 1)}')
print(f'Predicted Half Sleeve Measure: IN: {round(predicted_sleeve_measure[0] / 2.54 / 2.5, 1)} | CM: {round(predicted_sleeve_measure[0], 1)}')
